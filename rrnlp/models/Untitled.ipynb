{
 "cells": [
  {
   "cell_type": "code",
   "execution_count": 32,
   "id": "dff5b3fa-8ebb-421b-ab91-22b74cbb4316",
   "metadata": {},
   "outputs": [],
   "source": [
    "dict = {'abbrev_dict': {'CPAP': 'continuous positive airway pressure', 'EMS': 'emergency medical service'}, 'article_type': 'journal article', 'citation': 'Finn et al., Emergency medicine journal : EMJ. 2022', 'dois': ['10.1136/emermed-2020-210256'], 'interventions': ['CPAP', 'usual care or usual care plus CPAP', 'usual care (n=346) or CPAP', 'continuous positive airway pressure (CPAP', 'Prehospital continuous positive airway pressure (CPAP'], 'num_randomized': 708, 'outcomes': ['dyspnoea scores', 'hospital length of stay', 'dyspnoea and tachypnoea', 'change in dyspnoea score and change in RR at ED arrival, and hospital length of stay'], 'pmid': '33771819', 'population': ['708 patients', 'prehospital patients with severe respiratory distress', 'Western Australia between March 2016 and December 2018', 'acute respiratory distress', 'patients with acute respiratory distress', 'Eligible patients were aged ≥40 years with acute severe respiratory distress of non-traumatic origin and unresponsive to initial treatments by emergency medical service (EMS) paramedics'], 'prob_low_rob': 0.12983993, 'punchline_text': 'There was no difference in hospital length of stay (usual care 4.2, IQR 2.1 to 7.8\\u2009days vs CPAP 4.8, IQR 2.5 to 7.9\\u2009days) for the n=624 cases admitted to hospital, median difference 0.36', 'ti': 'Prehospital continuous positive airway pressure (CPAP) for acute respiratory distress: a randomised controlled trial.', 'year': 2022}, {'abbrev_dict': {'ICUs': 'intensive care units', 'VFDs': 'ventilator-free days'}, 'article_type': 'journal article', 'citation': 'Maláska et al., Trials. 2022', 'dois': ['10.1186/s13063-021-05963-6'], 'interventions': ['dexamethasone', 'oxygen therapy or mechanical ventilation, dexamethasone', 'dexamethasone 20 mg (dexamethasone', 'EudraCT', 'mechanical ventilation'], 'num_randomized': 300, 'outcomes': ['mortality from any cause at 60 days after randomisation; dynamics of the inflammatory marker, change in WHO Clinical Progression Scale', 'mortality and quality of life', 'number of ventilator-free days (VFDs'], 'pmid': '35033182', 'population': ['patients with ARDS and COVID-19 (REMED trial)-study protocol for a prospective, multi-centre', 'patients with moderate to severe ARDS undergoing', 'Three hundred participants will be enrolled and followed up for 360 days after randomization', 'intensive care units (ICUs) of ten university hospitals in the Czech Republic', 'patients with COVID-19 pneumonia in need of', 'adult patients with moderate or severe ARDS due to confirmed COVID-19'], 'prob_low_rob': 0.23136608, 'punchline_text': 'The secondary endpoints are mortality from any cause at 60 days after randomisation; dynamics of the inflammatory marker, change in WHO Clinical Progression Scale at day 14; and adverse events related to corticosteroids and independence at 90 days after randomisation assessed by the Barthel Index.', 'ti': 'Effect of dexamethasone in patients with ARDS and COVID-19 (REMED trial)-study protocol for a prospective, multi-centre, open-label, parallel-group, randomized controlled trial.', 'year': 2022}"
   ]
  },
  {
   "cell_type": "code",
   "execution_count": 33,
   "id": "324fccc5-ecf3-4c0a-997d-095d478f4b1e",
   "metadata": {},
   "outputs": [
    {
     "data": {
      "text/plain": [
       "{'abbrev_dict': {'CPAP': 'continuous positive airway pressure',\n",
       "  'EMS': 'emergency medical service'},\n",
       " 'article_type': 'journal article',\n",
       " 'citation': 'Finn et al., Emergency medicine journal : EMJ. 2022',\n",
       " 'dois': ['10.1136/emermed-2020-210256'],\n",
       " 'interventions': ['CPAP',\n",
       "  'usual care or usual care plus CPAP',\n",
       "  'usual care (n=346) or CPAP',\n",
       "  'continuous positive airway pressure (CPAP',\n",
       "  'Prehospital continuous positive airway pressure (CPAP'],\n",
       " 'num_randomized': 708,\n",
       " 'outcomes': ['dyspnoea scores',\n",
       "  'hospital length of stay',\n",
       "  'dyspnoea and tachypnoea',\n",
       "  'change in dyspnoea score and change in RR at ED arrival, and hospital length of stay'],\n",
       " 'pmid': '33771819',\n",
       " 'population': ['708 patients',\n",
       "  'prehospital patients with severe respiratory distress',\n",
       "  'Western Australia between March 2016 and December 2018',\n",
       "  'acute respiratory distress',\n",
       "  'patients with acute respiratory distress',\n",
       "  'Eligible patients were aged ≥40 years with acute severe respiratory distress of non-traumatic origin and unresponsive to initial treatments by emergency medical service (EMS) paramedics'],\n",
       " 'prob_low_rob': 0.12983993,\n",
       " 'punchline_text': 'There was no difference in hospital length of stay (usual care 4.2, IQR 2.1 to 7.8\\u2009days vs CPAP 4.8, IQR 2.5 to 7.9\\u2009days) for the n=624 cases admitted to hospital, median difference 0.36',\n",
       " 'ti': 'Prehospital continuous positive airway pressure (CPAP) for acute respiratory distress: a randomised controlled trial.',\n",
       " 'year': 2022}"
      ]
     },
     "execution_count": 33,
     "metadata": {},
     "output_type": "execute_result"
    }
   ],
   "source": [
    "/home/ubuntu/RRnlp/rrnlp/models"
   ]
  },
  {
   "cell_type": "code",
   "execution_count": 73,
   "id": "db9ed4a1-f7d4-4375-80a6-c649abf2a0f8",
   "metadata": {},
   "outputs": [
    {
     "ename": "FileNotFoundError",
     "evalue": "[Errno 2] No such file or directory: 'rrnlp.models.util.rct_summarize.templates.json'",
     "output_type": "error",
     "traceback": [
      "\u001b[0;31m---------------------------------------------------------------------------\u001b[0m",
      "\u001b[0;31mFileNotFoundError\u001b[0m                         Traceback (most recent call last)",
      "\u001b[0;32m<ipython-input-73-b1db2e59528e>\u001b[0m in \u001b[0;36m<module>\u001b[0;34m\u001b[0m\n\u001b[0;32m----> 1\u001b[0;31m \u001b[0mopen\u001b[0m\u001b[0;34m(\u001b[0m \u001b[0;34m'rrnlp.models.util.rct_summarize.templates.json'\u001b[0m\u001b[0;34m,\u001b[0m \u001b[0;34m'r'\u001b[0m \u001b[0;34m)\u001b[0m\u001b[0;34m\u001b[0m\u001b[0;34m\u001b[0m\u001b[0m\n\u001b[0m",
      "\u001b[0;31mFileNotFoundError\u001b[0m: [Errno 2] No such file or directory: 'rrnlp.models.util.rct_summarize.templates.json'"
     ]
    }
   ],
   "source": [
    "open( 'rrnlp.models.util.rct_summarize.templates.json', 'r' )"
   ]
  },
  {
   "cell_type": "code",
   "execution_count": 16,
   "id": "64b4b75a-ecb6-42ac-a991-3fe301c7f515",
   "metadata": {},
   "outputs": [
    {
     "name": "stdout",
     "output_type": "stream",
     "text": [
      "['708 patients', 'prehospital patients with severe respiratory distress', 'Western Australia between March 2016 and December 2018', 'acute respiratory distress', 'patients with acute respiratory distress', 'Eligible patients were aged ≥40 years with acute severe respiratory distress of non-traumatic origin and unresponsive to initial treatments by emergency medical service (EMS) paramedics']\n",
      "['CPAP', 'usual care or usual care plus CPAP', 'usual care (n=346) or CPAP', 'continuous positive airway pressure (CPAP', 'Prehospital continuous positive airway pressure (CPAP']\n",
      "['dyspnoea scores', 'hospital length of stay', 'dyspnoea and tachypnoea', 'change in dyspnoea score and change in RR at ED arrival, and hospital length of stay']\n",
      "There was no difference in hospital length of stay (usual care 4.2, IQR 2.1 to 7.8 days vs CPAP 4.8, IQR 2.5 to 7.9 days) for the n=624 cases admitted to hospital, median difference 0.36\n",
      "dict_keys(['abbrev_dict', 'article_type', 'citation', 'dois', 'interventions', 'num_randomized', 'outcomes', 'pmid', 'population', 'prob_low_rob', 'punchline_text', 'ti', 'year'])\n",
      "['patients with ARDS and COVID-19 (REMED trial)-study protocol for a prospective, multi-centre', 'patients with moderate to severe ARDS undergoing', 'Three hundred participants will be enrolled and followed up for 360 days after randomization', 'intensive care units (ICUs) of ten university hospitals in the Czech Republic', 'patients with COVID-19 pneumonia in need of', 'adult patients with moderate or severe ARDS due to confirmed COVID-19']\n",
      "['dexamethasone', 'oxygen therapy or mechanical ventilation, dexamethasone', 'dexamethasone 20 mg (dexamethasone', 'EudraCT', 'mechanical ventilation']\n",
      "['mortality from any cause at 60 days after randomisation; dynamics of the inflammatory marker, change in WHO Clinical Progression Scale', 'mortality and quality of life', 'number of ventilator-free days (VFDs']\n",
      "The secondary endpoints are mortality from any cause at 60 days after randomisation; dynamics of the inflammatory marker, change in WHO Clinical Progression Scale at day 14; and adverse events related to corticosteroids and independence at 90 days after randomisation assessed by the Barthel Index.\n",
      "dict_keys(['abbrev_dict', 'article_type', 'citation', 'dois', 'interventions', 'num_randomized', 'outcomes', 'pmid', 'population', 'prob_low_rob', 'punchline_text', 'ti', 'year'])\n"
     ]
    }
   ],
   "source": [
    "for each in dict:\n",
    "    print(each['population'])\n",
    "    print(each['interventions'])\n",
    "    print(each['outcomes'])\n",
    "    print(each['punchline_text'])\n",
    "    print(each.keys())"
   ]
  },
  {
   "cell_type": "code",
   "execution_count": 6,
   "id": "7a2feab7-2cc0-4617-8d7e-34170218c525",
   "metadata": {},
   "outputs": [],
   "source": [
    "from rrnlp.models import ev_inf_classifier"
   ]
  },
  {
   "cell_type": "code",
   "execution_count": 7,
   "id": "09321757-f23e-4a82-a7d7-ad489c82aba5",
   "metadata": {},
   "outputs": [],
   "source": [
    "ev_bot = ev_inf_classifier.EvInfBot()"
   ]
  },
  {
   "cell_type": "code",
   "execution_count": 8,
   "id": "ca90cd4c-e96a-444b-a125-45e8220a922f",
   "metadata": {},
   "outputs": [
    {
     "data": {
      "text/plain": [
       "'— no diff'"
      ]
     },
     "execution_count": 8,
     "metadata": {},
     "output_type": "execute_result"
    }
   ],
   "source": [
    "ti_ab = {'ti': 'Effect of dexamethasone in patients with ARDS and COVID-19 (REMED trial)-study protocol for a prospective, multi-centre, open-label, parallel-group, randomized controlled trial.', 'ab': \"\"\"The secondary endpoints are mortality from any cause at 60 days after randomisation; dynamics of the inflammatory marker, change in WHO Clinical Progression Scale at day 14; and adverse events related to corticosteroids and independence at 90 days after randomisation assessed by the Barthel Index.\"\"\"}\n",
    "\n",
    "pred_direction = ev_bot.predict_for_ab(ti_ab)['effect']\n",
    "pred_direction"
   ]
  },
  {
   "cell_type": "code",
   "execution_count": 19,
   "id": "e8d0d7bc-e0a8-4559-be40-3c9c78bd4c35",
   "metadata": {},
   "outputs": [],
   "source": [
    "path = '/home/ubuntu/.local/lib/python3.9/site-packages/rrnlp/models/weights/6851817_refined_state_dict_vanilla.ckpt'"
   ]
  },
  {
   "cell_type": "code",
   "execution_count": 20,
   "id": "64ebf995-58ea-4a9f-a4e2-3dff37e6373e",
   "metadata": {},
   "outputs": [],
   "source": [
    "\n",
    "def load_layers(saved_layers, model):\n",
    "    model_updated_state_dict = model.state_dict()\n",
    "\n",
    "    for layer_name, layer_params in model.state_dict().items():\n",
    "        saved_layer_name = 'model.'+layer_name\n",
    "        if saved_layer_name in saved_layers:\n",
    "            model_updated_state_dict[layer_name] = saved_layers[saved_layer_name]\n",
    "        else:\n",
    "            print(saved_layer_name)\n",
    "        \n",
    "    return model_updated_state_dict"
   ]
  },
  {
   "cell_type": "code",
   "execution_count": 23,
   "id": "2d130b87-73d0-4f29-a6dd-2e687b0ecabc",
   "metadata": {},
   "outputs": [],
   "source": [
    "from transformers import LEDTokenizer, LEDForConditionalGeneration\n",
    "import torch\n",
    "additional_special_tokens = ['<population>', '</population>',\n",
    "                            '<interventions>', '</interventions>',\n",
    "                            '<outcomes>', '</outcomes>',\n",
    "                            '<punchline_text>', '</punchline_text>',\n",
    "                            '<study>', '</study>', \"<sep>\"]"
   ]
  },
  {
   "cell_type": "code",
   "execution_count": 24,
   "id": "1ca1f46e-b32b-4d5e-95aa-57a052def768",
   "metadata": {},
   "outputs": [
    {
     "data": {
      "text/plain": [
       "11"
      ]
     },
     "execution_count": 24,
     "metadata": {},
     "output_type": "execute_result"
    }
   ],
   "source": [
    "tokenizer = LEDTokenizer.from_pretrained(\"allenai/led-base-16384\", bos_token=\"<s>\",\n",
    "                                                            eos_token=\"</s>\",\n",
    "                                                            pad_token = \"<pad>\")\n",
    "\n",
    "tokenizer.add_tokens(additional_special_tokens)"
   ]
  },
  {
   "cell_type": "code",
   "execution_count": 26,
   "id": "2b5a3bdd-c858-4f4d-920f-c27ac613daee",
   "metadata": {},
   "outputs": [
    {
     "data": {
      "text/plain": [
       "Embedding(50276, 768)"
      ]
     },
     "execution_count": 26,
     "metadata": {},
     "output_type": "execute_result"
    }
   ],
   "source": [
    "model = LEDForConditionalGeneration.from_pretrained('allenai/led-base-16384')\n",
    "model.resize_token_embeddings(len(tokenizer))"
   ]
  },
  {
   "cell_type": "code",
   "execution_count": 27,
   "id": "1502acc7-cad8-41bd-a34f-483f6dabcad8",
   "metadata": {},
   "outputs": [],
   "source": [
    "#model.state_dict().keys()"
   ]
  },
  {
   "cell_type": "code",
   "execution_count": 28,
   "id": "1163a1c7-ed2a-442d-a27d-10834ed78130",
   "metadata": {},
   "outputs": [],
   "source": [
    "pretrained_weights = torch.load(path, map_location=torch.device('cpu') )"
   ]
  },
  {
   "cell_type": "code",
   "execution_count": 29,
   "id": "ae41457f-1684-4785-924c-2625b72a4937",
   "metadata": {},
   "outputs": [
    {
     "data": {
      "text/plain": [
       "['model.final_logits_bias',\n",
       " 'model.led.shared.weight',\n",
       " 'model.led.encoder.embed_tokens.weight',\n",
       " 'model.led.encoder.embed_positions.weight',\n",
       " 'model.led.encoder.layers.0.self_attn.longformer_self_attn.query.weight']"
      ]
     },
     "execution_count": 29,
     "metadata": {},
     "output_type": "execute_result"
    }
   ],
   "source": [
    "list(pretrained_weights.keys())[:5]"
   ]
  },
  {
   "cell_type": "code",
   "execution_count": 30,
   "id": "7edff309-ea0e-4ff7-9f7e-1aa1f6faee09",
   "metadata": {},
   "outputs": [],
   "source": [
    "pretrained_weights = load_layers(pretrained_weights, model)"
   ]
  },
  {
   "cell_type": "code",
   "execution_count": 31,
   "id": "d27e9174-dd6b-4665-94fa-6968443f3f25",
   "metadata": {},
   "outputs": [
    {
     "data": {
      "text/plain": [
       "<All keys matched successfully>"
      ]
     },
     "execution_count": 31,
     "metadata": {},
     "output_type": "execute_result"
    }
   ],
   "source": [
    "model.load_state_dict(pretrained_weights)"
   ]
  },
  {
   "cell_type": "code",
   "execution_count": 34,
   "id": "82af49b9-6086-4c2b-80db-f85827603212",
   "metadata": {},
   "outputs": [],
   "source": [
    "# def process_spans(self, data):\n",
    "#         def strip_spaces(lst):\n",
    "#             lst_stripped = []\n",
    "#             for each in lst:\n",
    "#                 each = ' '.join([w.strip() for w in each.split(' ') if w.strip()])\n",
    "#                 lst_stripped.append(each)\n",
    "#             return lst_stripped\n",
    "        \n",
    "#         p_spans = []\n",
    "#         i_spans = []\n",
    "#         o_spans = []\n",
    "#         ptext_spans = []\n",
    "        \n",
    "        \n",
    "#         for each in data:\n",
    "#             p_spans.append(strip_spaces(each['population']))\n",
    "#             i_spans.append(strip_spaces(each['interventions']))\n",
    "#             o_spans.append(strip_spaces(each['outcomes']))\n",
    "#             ti_ab = {'ti': each['ti'], 'ab': each['punchline_text']}\n",
    "#             p_effect = self.ev_bot.predict_for_ab(ti_ab)['effect']\n",
    "#             ptext_spans.append(strip_spaces([each['punchline_text'], p_effect]))\n",
    "            \n",
    "#         p_input_ids, p_attn_masks = self.run_tokenizer(p_spans, 'population')\n",
    "#         i_input_ids, i_attn_masks = self.run_tokenizer(i_spans, 'interventions')\n",
    "#         o_input_ids, o_attn_masks = self.run_tokenizer(o_spans, 'outcomes')\n",
    "#         ptext_input_ids, ptext_attn_masks = self.run_tokenizer(ptext_spans, 'punchline_text')\n",
    "#         return p_input_ids, p_attn_masks, i_input_ids, i_attn_masks, o_input_ids, o_attn_masks, ptext_input_ids, ptext_attn_masks\n",
    "\n",
    "\n",
    "\n",
    "# spans = [ ' <sep> '.join(each) for each in spans]\n",
    "#         spans = ['<study> <%s> '%(span_key) + each + ' </%s> </study>'%(span_key) for each in spans]\n",
    "#         spans = ' '.join(spans)\n",
    "#         print('SPAN',spans)\n",
    "#         encoded_dict = tokenize(spans)\n",
    "#         return encoded_dict['input_ids'], encoded_dict['attention_mask']\n"
   ]
  },
  {
   "cell_type": "code",
   "execution_count": 46,
   "id": "b46be4c5-a6fa-4461-8e2f-29dc15ec9f1d",
   "metadata": {},
   "outputs": [],
   "source": [
    "#from rrnlp.models import PICO_tagger, ev_inf_classifier\n",
    "def process_spans( data):\n",
    "    \n",
    "    def strip_spaces(lst):\n",
    "            lst_stripped = []\n",
    "            for each in lst:\n",
    "                each = ' '.join([w.strip() for w in each.split(' ') if w.strip()])\n",
    "                lst_stripped.append(each)\n",
    "            return lst_stripped\n",
    "        \n",
    "    def make_spans(spans, span_key):\n",
    "        spans = ' <sep> '.join(spans)\n",
    "        spans = '<%s> '%(span_key) + spans + ' </%s> '%(span_key)\n",
    "        \n",
    "        return spans\n",
    "    \n",
    "    all_data = []\n",
    "    for each in data:\n",
    "        pop = make_spans(strip_spaces(each['population']), 'population')\n",
    "        inter = make_spans(strip_spaces(each['interventions']), 'interventions')\n",
    "        out = make_spans(strip_spaces(each['outcomes']), 'outcomes')\n",
    "        ti_ab = {'ti': each['ti'], 'ab': each['punchline_text']}\n",
    "        p_effect = ev_bot.predict_for_ab(ti_ab)['effect']\n",
    "        ptext = make_spans(strip_spaces([each['punchline_text'], p_effect]), 'punchline_text')\n",
    "        \n",
    "        all_data.append(' '.join([pop, inter, out, ptext]))\n",
    "    all_data = ['<study> ' + each + ' </study>' for each in all_data]\n",
    "    all_data = ' '.join(all_data)\n",
    "    return all_data\n",
    "        \n",
    "        \n",
    "        \n",
    "    "
   ]
  },
  {
   "cell_type": "code",
   "execution_count": 47,
   "id": "841ba757-9e4b-4b90-a84f-1c2b5d158d2a",
   "metadata": {},
   "outputs": [
    {
     "ename": "NameError",
     "evalue": "name 'ev_bot' is not defined",
     "output_type": "error",
     "traceback": [
      "\u001b[0;31m---------------------------------------------------------------------------\u001b[0m",
      "\u001b[0;31mNameError\u001b[0m                                 Traceback (most recent call last)",
      "\u001b[0;32m<ipython-input-47-3de2f76ea7d6>\u001b[0m in \u001b[0;36m<module>\u001b[0;34m\u001b[0m\n\u001b[0;32m----> 1\u001b[0;31m \u001b[0mprocess_spans\u001b[0m\u001b[0;34m(\u001b[0m\u001b[0mdict\u001b[0m\u001b[0;34m)\u001b[0m\u001b[0;34m\u001b[0m\u001b[0;34m\u001b[0m\u001b[0m\n\u001b[0m",
      "\u001b[0;32m<ipython-input-46-adcf8515f773>\u001b[0m in \u001b[0;36mprocess_spans\u001b[0;34m(data)\u001b[0m\n\u001b[1;32m     21\u001b[0m         \u001b[0mout\u001b[0m \u001b[0;34m=\u001b[0m \u001b[0mmake_spans\u001b[0m\u001b[0;34m(\u001b[0m\u001b[0mstrip_spaces\u001b[0m\u001b[0;34m(\u001b[0m\u001b[0meach\u001b[0m\u001b[0;34m[\u001b[0m\u001b[0;34m'outcomes'\u001b[0m\u001b[0;34m]\u001b[0m\u001b[0;34m)\u001b[0m\u001b[0;34m,\u001b[0m \u001b[0;34m'outcomes'\u001b[0m\u001b[0;34m)\u001b[0m\u001b[0;34m\u001b[0m\u001b[0;34m\u001b[0m\u001b[0m\n\u001b[1;32m     22\u001b[0m         \u001b[0mti_ab\u001b[0m \u001b[0;34m=\u001b[0m \u001b[0;34m{\u001b[0m\u001b[0;34m'ti'\u001b[0m\u001b[0;34m:\u001b[0m \u001b[0meach\u001b[0m\u001b[0;34m[\u001b[0m\u001b[0;34m'ti'\u001b[0m\u001b[0;34m]\u001b[0m\u001b[0;34m,\u001b[0m \u001b[0;34m'ab'\u001b[0m\u001b[0;34m:\u001b[0m \u001b[0meach\u001b[0m\u001b[0;34m[\u001b[0m\u001b[0;34m'punchline_text'\u001b[0m\u001b[0;34m]\u001b[0m\u001b[0;34m}\u001b[0m\u001b[0;34m\u001b[0m\u001b[0;34m\u001b[0m\u001b[0m\n\u001b[0;32m---> 23\u001b[0;31m         \u001b[0mp_effect\u001b[0m \u001b[0;34m=\u001b[0m \u001b[0mev_bot\u001b[0m\u001b[0;34m.\u001b[0m\u001b[0mpredict_for_ab\u001b[0m\u001b[0;34m(\u001b[0m\u001b[0mti_ab\u001b[0m\u001b[0;34m)\u001b[0m\u001b[0;34m[\u001b[0m\u001b[0;34m'effect'\u001b[0m\u001b[0;34m]\u001b[0m\u001b[0;34m\u001b[0m\u001b[0;34m\u001b[0m\u001b[0m\n\u001b[0m\u001b[1;32m     24\u001b[0m         \u001b[0mptext\u001b[0m \u001b[0;34m=\u001b[0m \u001b[0mmake_spans\u001b[0m\u001b[0;34m(\u001b[0m\u001b[0mstrip_spaces\u001b[0m\u001b[0;34m(\u001b[0m\u001b[0;34m[\u001b[0m\u001b[0meach\u001b[0m\u001b[0;34m[\u001b[0m\u001b[0;34m'punchline_text'\u001b[0m\u001b[0;34m]\u001b[0m\u001b[0;34m,\u001b[0m \u001b[0mp_effect\u001b[0m\u001b[0;34m]\u001b[0m\u001b[0;34m)\u001b[0m\u001b[0;34m,\u001b[0m \u001b[0;34m'punchline_text'\u001b[0m\u001b[0;34m)\u001b[0m\u001b[0;34m\u001b[0m\u001b[0;34m\u001b[0m\u001b[0m\n\u001b[1;32m     25\u001b[0m \u001b[0;34m\u001b[0m\u001b[0m\n",
      "\u001b[0;31mNameError\u001b[0m: name 'ev_bot' is not defined"
     ]
    }
   ],
   "source": [
    "process_spans(dict)"
   ]
  },
  {
   "cell_type": "code",
   "execution_count": 49,
   "id": "150c0ebc-e1f4-4965-80d2-f7948e608178",
   "metadata": {},
   "outputs": [],
   "source": [
    "dict_1 = {\"system\":\"structured\",\"has aspects\":True,\"summary\":[\"There\",\"is\",\"insufficient\",\"evidence\",\"to\",\"conclude\",\"that\",\"re-purposed\",\"antiviral\",\"agents\",\"are\",\"effective\",\"in\",\"the\",\"treatment\",\"of\",\"COVID-19.\",\"Further\",\"randomised\"],\"search terms\":{\"population\":[\"COVID-19 [population]\"],\"intervention\":[\"Remdesivir [interventions]\"]},\"studies\":[{\"title\":\"Remdesivir and three other drugs for hospitalised patients with COVID-19: final results of the WHO Solidarity randomised trial and updated meta-analyses.\",\"punchline\":\"The non-prespecified composite outcome of death or progression to ventilation occurred in 19·6% assigned to remdesivir versus 22·5% assigned to control (RR 0·84 [0·75-0·93], p=0·001).\",\"populations\":[\"83 (0·6%) patients with a refuted COVID-19 diagnosis or encrypted consent not entered into the database, Solidarity enrolled 14 221 patients\",\"hospitalised patients with COVID-19\",\"Between March 22, 2020, and Jan 29, 2021, 14 304 potentially eligible patients were recruited from 454 hospitals in 35 countries in all six WHO regions\",\"Solidarity enrolled consenting adults (aged ≥18 years) recently hospitalised with, in the view of their doctor, definite COVID-19 and no contraindication to any of the study drugs, regardless of any other patient characteristics\",\"patients with COVID-19 who are already being ventilated\",\"hospital inpatients\"],\"interventions\":[\"remdesivir\",\"Lopinavir, hydroxychloroquine, and interferon (IFN)-β1a\",\"drugs (lopinavir, hydroxychloroquine, IFN-β1a, or remdesivir\"],\"outcomes\":[\"Compliance\",\"progression to ventilation if not already ventilated, and time-to-discharge from hospital\",\"hospital mortality, subdivided by disease severity\",\"death or progression to ventilation\"]}],\"label names\":[\"punchline_text\",\"punchline_text\",\"punchline_text\",\"punchline_text\",\"punchline_text\",\"punchline_text\",\"punchline_text\",\"interventions\",\"interventions\",\"interventions\",\"punchline_text\",\"punchline_text\",\"punchline_text\",\"punchline_text\",\"punchline_text\",\"punchline_text\",\"population\",\"punchline_text\",\"punchline_text\"],\"labels\":[3,3,3,3,3,3,3,1,1,1,3,3,3,3,3,3,0,3,3]}"
   ]
  },
  {
   "cell_type": "code",
   "execution_count": 51,
   "id": "11758b93-bc54-4409-a064-d1988d5193e6",
   "metadata": {},
   "outputs": [],
   "source": [
    "dict_2 = {\n",
    "\t\"system\": \"System name\",\n",
    "        \"has aspects\": True,\n",
    "\t\"search terms\": {\n",
    "\t\t\"population\": \"diabetes\",\n",
    "\t\t\"intervention\": \"insulin\"\n",
    "\t},\n",
    "\t\"summary\": [\n",
    "\t\t\"this\",\n",
    "\t\t\"is\",\n",
    "\t\t\"a\",\n",
    "\t\t\"summary\",\n",
    "\t\t\".\"\n",
    "\t],\n",
    "\t\"labels\": [\n",
    "\t\t0,\n",
    "\t\t1,\n",
    "\t\t0,\n",
    "\t\t2,\n",
    "\t\t3\n",
    "\t],\n",
    "\t\"label names\": [\n",
    "\t\t\"population\",\n",
    "\t\t\"intervention\",\n",
    "\t\t\"outcome\",\n",
    "\t\t\"other\"\n",
    "\t],\n",
    "\t\"studies\": [\n",
    "\t\t{\n",
    "\t\t\t\"title\": \"study 1\",\n",
    "\t\t\t\"punchline\": \"punchline 1\",\n",
    "\t\t\t\"populations\": [\n",
    "\t\t\t\t\"pop 1\",\n",
    "\t\t\t\t\"pop 2\"\n",
    "\t\t\t],\n",
    "\t\t\t\"interventions\": [\n",
    "\t\t\t\t\"int 1\",\n",
    "\t\t\t\t\"int 2\"\n",
    "\t\t\t],\n",
    "\t\t\t\"outcomes\": [\n",
    "\t\t\t\t\"out 1\",\n",
    "\t\t\t\t\"out 2\"\n",
    "\t\t\t]\n",
    "\t\t},\n",
    "\t\t{\n",
    "\t\t\t\"title\": \"study 2\",\n",
    "\t\t\t\"punchline\": \"punchline 2\",\n",
    "\t\t\t\"populations\": [\n",
    "\t\t\t\t\"pop 1\",\n",
    "\t\t\t\t\"pop 2\"\n",
    "\t\t\t],\n",
    "\t\t\t\"interventions\": [\n",
    "\t\t\t\t\"int 1\",\n",
    "\t\t\t\t\"int 2\"\n",
    "\t\t\t],\n",
    "\t\t\t\"outcomes\": [\n",
    "\t\t\t\t\"out 1\",\n",
    "\t\t\t\t\"out 2\"\n",
    "\t\t\t]\n",
    "\t\t}\n",
    "\t]\n",
    "}\n"
   ]
  },
  {
   "cell_type": "code",
   "execution_count": 61,
   "id": "322a84f7-274c-4bb7-ba42-6fac0c37ec66",
   "metadata": {},
   "outputs": [
    {
     "data": {
      "text/plain": [
       "(dict_keys(['system', 'has aspects', 'summary', 'search terms', 'studies', 'label names', 'labels']),\n",
       " {'population': ['COVID-19 [population]'],\n",
       "  'intervention': ['Remdesivir [interventions]']})"
      ]
     },
     "execution_count": 61,
     "metadata": {},
     "output_type": "execute_result"
    }
   ],
   "source": [
    "dict_1.keys(), dict_1['search terms']"
   ]
  },
  {
   "cell_type": "code",
   "execution_count": 60,
   "id": "c3903908-c9dd-4933-9569-aade3f7eebb9",
   "metadata": {},
   "outputs": [
    {
     "data": {
      "text/plain": [
       "(dict_keys(['system', 'has aspects', 'search terms', 'summary', 'labels', 'label names', 'studies']),\n",
       " {'population': 'diabetes', 'intervention': 'insulin'})"
      ]
     },
     "execution_count": 60,
     "metadata": {},
     "output_type": "execute_result"
    }
   ],
   "source": [
    "dict_2.keys(), dict_2['search terms']"
   ]
  },
  {
   "cell_type": "code",
   "execution_count": 71,
   "id": "42dc7806-bd62-4396-a363-ef32ee43dc57",
   "metadata": {},
   "outputs": [
    {
     "data": {
      "text/plain": [
       "' is'"
      ]
     },
     "execution_count": 71,
     "metadata": {},
     "output_type": "execute_result"
    }
   ],
   "source": [
    "a = \" is</s>\"\n",
    "a.split('<')[0]"
   ]
  },
  {
   "cell_type": "code",
   "execution_count": null,
   "id": "20a37639-5b6a-4cd0-9834-2478636758ba",
   "metadata": {},
   "outputs": [],
   "source": []
  }
 ],
 "metadata": {
  "kernelspec": {
   "display_name": "Python 3",
   "language": "python",
   "name": "python3"
  },
  "language_info": {
   "codemirror_mode": {
    "name": "ipython",
    "version": 3
   },
   "file_extension": ".py",
   "mimetype": "text/x-python",
   "name": "python",
   "nbconvert_exporter": "python",
   "pygments_lexer": "ipython3",
   "version": "3.9.4"
  }
 },
 "nbformat": 4,
 "nbformat_minor": 5
}
